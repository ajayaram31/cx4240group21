{
 "cells": [
  {
   "cell_type": "code",
   "execution_count": 3,
   "id": "ab2a816f",
   "metadata": {},
   "outputs": [],
   "source": [
    "import pandas as pd\n",
    "import numpy as np\n",
    "import matplotlib.pyplot as plt\n",
    "from sklearn.preprocessing import MinMaxScaler\n",
    "from sklearn.metrics import accuracy_score\n",
    "from sklearn.linear_model import LogisticRegression\n",
    "from sklearn.model_selection import train_test_split\n",
    "from sklearn.metrics import classification_report, accuracy_score\n",
    "\n",
    "raw = pd.read_csv('stock_prices_10yr_all_companies.csv', header=None)\n",
    "\n",
    "tickers = raw.iloc[0, 1:].values\n",
    "features = raw.iloc[1, 1:].values\n",
    "columns = ['Date'] + [f'{tickers[i]}_{features[i]}' for i in range(len(tickers))]\n",
    "\n",
    "df = pd.DataFrame(raw.values[2:], columns=columns)\n",
    "\n",
    "# Cleanup\n",
    "df = df[df['Date'].astype(str) != 'Date']\n",
    "df['Date'] = pd.to_datetime(df['Date'], format='%Y-%m-%d', errors='coerce')\n",
    "df = df.dropna(subset=['Date'])  # drop rows with invalid dates"
   ]
  },
  {
   "cell_type": "code",
   "execution_count": 27,
   "id": "9a7b7b70",
   "metadata": {},
   "outputs": [
    {
     "name": "stdout",
     "output_type": "stream",
     "text": [
      "Trend prediction accuracy: 53.24%\n",
      "\n",
      "Sample predictions:\n",
      "2024-09-13 | Close: $157.10 | Signal: Buy\n",
      "2024-09-16 | Close: $157.70 | Signal: Buy\n",
      "2024-09-17 | Close: $158.95 | Signal: Buy\n",
      "2024-09-18 | Close: $159.44 | Signal: Buy\n",
      "2024-09-19 | Close: $161.77 | Signal: Buy\n",
      "2024-09-20 | Close: $163.21 | Signal: Buy\n",
      "2024-09-23 | Close: $161.48 | Signal: Buy\n",
      "2024-09-24 | Close: $161.92 | Signal: Buy\n",
      "2024-09-25 | Close: $161.12 | Signal: Buy\n",
      "2024-09-26 | Close: $162.36 | Signal: Buy\n"
     ]
    }
   ],
   "source": [
    "target = 'GOOGL'\n",
    "cols = [f'Close_{target}', f'High_{target}', f'Low_{target}']\n",
    "df[cols] = df[cols].astype(float)\n",
    "df['Prev_Close'] = df[f'Close_{target}'].shift(1)\n",
    "\n",
    "df['Target_Up'] = (df[f'Close_{target}'] > df['Prev_Close']).astype(int)\n",
    "\n",
    "df.dropna(inplace=True)\n",
    "\n",
    "scaler = MinMaxScaler()\n",
    "scaled = scaler.fit_transform(df[['Prev_Close']])\n",
    "\n",
    "X = scaled\n",
    "y = df['Target_Up'].values\n",
    "\n",
    "split = int(len(X) * 0.92)\n",
    "X_train, y_train = X[:split], y[:split]\n",
    "X_test, y_test = X[split:], y[split:]\n",
    "dates_test = df['Date'].iloc[split:]\n",
    "real_close = df[f'Close_{target}'].iloc[split:].values\n",
    "\n",
    "model = LogisticRegression()\n",
    "model.fit(X_train, y_train)\n",
    "\n",
    "y_pred = model.predict(X_test)\n",
    "\n",
    "signals = np.where(y_pred == 1, 'Buy', 'Sell')\n",
    "\n",
    "real_trend = np.where(np.diff(real_close) > 0, 1, 0)\n",
    "pred_trend = y_pred[:-1]\n",
    "trend_accuracy = accuracy_score(real_trend, pred_trend)\n",
    "\n",
    "print(f\"Trend prediction accuracy: {trend_accuracy:.2%}\")\n",
    "print(\"\\nSample predictions:\")\n",
    "for i in range(10):\n",
    "    print(f\"{dates_test.iloc[i].date()} | Close: ${real_close[i]:.2f} | Signal: {signals[i]}\")"
   ]
  }
 ],
 "metadata": {
  "kernelspec": {
   "display_name": "base",
   "language": "python",
   "name": "python3"
  },
  "language_info": {
   "codemirror_mode": {
    "name": "ipython",
    "version": 3
   },
   "file_extension": ".py",
   "mimetype": "text/x-python",
   "name": "python",
   "nbconvert_exporter": "python",
   "pygments_lexer": "ipython3",
   "version": "3.12.3"
  }
 },
 "nbformat": 4,
 "nbformat_minor": 5
}
