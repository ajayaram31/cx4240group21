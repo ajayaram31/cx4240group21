{
 "cells": [
  {
   "cell_type": "code",
   "execution_count": 1,
   "metadata": {},
   "outputs": [
    {
     "name": "stdout",
     "output_type": "stream",
     "text": [
      "Requirement already satisfied: yfinance in c:\\users\\archi_h340w2d\\anaconda3\\lib\\site-packages (0.2.55)\n",
      "Requirement already satisfied: pandas>=1.3.0 in c:\\users\\archi_h340w2d\\anaconda3\\lib\\site-packages (from yfinance) (2.2.2)\n",
      "Requirement already satisfied: numpy>=1.16.5 in c:\\users\\archi_h340w2d\\anaconda3\\lib\\site-packages (from yfinance) (1.26.4)\n",
      "Requirement already satisfied: requests>=2.31 in c:\\users\\archi_h340w2d\\anaconda3\\lib\\site-packages (from yfinance) (2.32.3)\n",
      "Requirement already satisfied: multitasking>=0.0.7 in c:\\users\\archi_h340w2d\\anaconda3\\lib\\site-packages (from yfinance) (0.0.11)\n",
      "Requirement already satisfied: platformdirs>=2.0.0 in c:\\users\\archi_h340w2d\\anaconda3\\lib\\site-packages (from yfinance) (3.10.0)\n",
      "Requirement already satisfied: pytz>=2022.5 in c:\\users\\archi_h340w2d\\anaconda3\\lib\\site-packages (from yfinance) (2024.1)\n",
      "Requirement already satisfied: frozendict>=2.3.4 in c:\\users\\archi_h340w2d\\anaconda3\\lib\\site-packages (from yfinance) (2.4.2)\n",
      "Requirement already satisfied: peewee>=3.16.2 in c:\\users\\archi_h340w2d\\anaconda3\\lib\\site-packages (from yfinance) (3.17.9)\n",
      "Requirement already satisfied: beautifulsoup4>=4.11.1 in c:\\users\\archi_h340w2d\\anaconda3\\lib\\site-packages (from yfinance) (4.12.3)\n",
      "Requirement already satisfied: soupsieve>1.2 in c:\\users\\archi_h340w2d\\anaconda3\\lib\\site-packages (from beautifulsoup4>=4.11.1->yfinance) (2.5)\n",
      "Requirement already satisfied: python-dateutil>=2.8.2 in c:\\users\\archi_h340w2d\\anaconda3\\lib\\site-packages (from pandas>=1.3.0->yfinance) (2.9.0.post0)\n",
      "Requirement already satisfied: tzdata>=2022.7 in c:\\users\\archi_h340w2d\\anaconda3\\lib\\site-packages (from pandas>=1.3.0->yfinance) (2023.3)\n",
      "Requirement already satisfied: charset-normalizer<4,>=2 in c:\\users\\archi_h340w2d\\anaconda3\\lib\\site-packages (from requests>=2.31->yfinance) (3.3.2)\n",
      "Requirement already satisfied: idna<4,>=2.5 in c:\\users\\archi_h340w2d\\anaconda3\\lib\\site-packages (from requests>=2.31->yfinance) (3.7)\n",
      "Requirement already satisfied: urllib3<3,>=1.21.1 in c:\\users\\archi_h340w2d\\anaconda3\\lib\\site-packages (from requests>=2.31->yfinance) (2.2.3)\n",
      "Requirement already satisfied: certifi>=2017.4.17 in c:\\users\\archi_h340w2d\\anaconda3\\lib\\site-packages (from requests>=2.31->yfinance) (2024.12.14)\n",
      "Requirement already satisfied: six>=1.5 in c:\\users\\archi_h340w2d\\anaconda3\\lib\\site-packages (from python-dateutil>=2.8.2->pandas>=1.3.0->yfinance) (1.16.0)\n",
      "Note: you may need to restart the kernel to use updated packages.\n"
     ]
    }
   ],
   "source": [
    "pip install yfinance"
   ]
  },
  {
   "cell_type": "code",
   "execution_count": 1,
   "metadata": {},
   "outputs": [
    {
     "name": "stdout",
     "output_type": "stream",
     "text": [
      "YF.download() has changed argument auto_adjust default to True\n"
     ]
    },
    {
     "name": "stderr",
     "output_type": "stream",
     "text": [
      "[*********************100%***********************]  10 of 10 completed\n"
     ]
    },
    {
     "name": "stdout",
     "output_type": "stream",
     "text": [
      "Ticker            NFLX                                                \\\n",
      "Price             Open        High        Low       Close     Volume   \n",
      "Date                                                                   \n",
      "2015-05-01   79.855713   90.205711  78.894287   89.151428  280030800   \n",
      "2015-06-01   88.837143  100.891426  87.944283   93.848572  469260400   \n",
      "2015-07-01   94.805717  117.879997  92.284286  114.309998  406357500   \n",
      "2015-08-01  114.599998  129.289993  85.500000  115.029999  469661800   \n",
      "2015-09-01  109.349998  111.239998  93.550003  103.260002  497401200   \n",
      "\n",
      "Ticker          GOOGL                                               ...  \\\n",
      "Price            Open       High        Low      Close      Volume  ...   \n",
      "Date                                                                ...   \n",
      "2015-05-01  27.394527  27.779189  26.485374  27.136263   648434000  ...   \n",
      "2015-06-01  27.305952  28.145936  26.814301  26.873520   704328000  ...   \n",
      "2015-07-01  27.053659  35.496792  26.859587  32.718575  1370858000  ...   \n",
      "2015-08-01  32.726533  35.032510  29.513395  32.236874  1106942000  ...   \n",
      "2015-09-01  31.539711  33.937247  30.745010  31.766626   871504000  ...   \n",
      "\n",
      "Ticker             DIS                                                 \\\n",
      "Price             Open        High         Low       Close     Volume   \n",
      "Date                                                                    \n",
      "2015-05-01  101.224387  104.308537   99.125328  101.611061  121219000   \n",
      "2015-06-01  102.632964  106.131393   99.106911  105.081863  132415500   \n",
      "2015-07-01  105.827593  111.139692  105.201558  110.476830  128648900   \n",
      "2015-08-01  111.934221  113.045419   83.339511   94.340324  409039800   \n",
      "2015-09-01   91.960526   98.109130   90.534494   94.636650  191307900   \n",
      "\n",
      "Ticker              T                                               \n",
      "Price            Open       High        Low      Close      Volume  \n",
      "Date                                                                \n",
      "2015-05-01  12.743145  12.986504  12.178996  12.735770   844500424  \n",
      "2015-06-01  12.732082  13.440035  12.625152  13.097121   979702539  \n",
      "2015-07-01  13.122936  13.248302  12.485041  12.809519  1002937415  \n",
      "2015-08-01  13.115109  13.141376  11.621600  12.458415   968188107  \n",
      "2015-09-01  12.233265  12.570993  11.951825  12.225760   739284398  \n",
      "\n",
      "[5 rows x 50 columns]\n"
     ]
    }
   ],
   "source": [
    "import yfinance as yf\n",
    "import pandas as pd\n",
    "\n",
    "# List of ticker symbols\n",
    "tickers = [\n",
    "    \"GOOGL\", \"META\", \"NFLX\", \"TMUS\", \"DIS\",\n",
    "    \"T\", \"VZ\", \"CMCSA\", \"SPOT\", \"CHTR\"\n",
    "]\n",
    "\n",
    "# Download data for all tickers at once over 10 years\n",
    "data = yf.download(tickers, period=\"10y\", group_by='ticker', interval = \"1mo\")\n",
    "\n",
    "# Show the first few rows\n",
    "print(data.head())"
   ]
  },
  {
   "cell_type": "code",
   "execution_count": 3,
   "metadata": {},
   "outputs": [],
   "source": [
    "for ticker in tickers:\n",
    "    company_data = data[ticker]\n",
    "    company_data.to_csv(f\"{ticker}_10yr_history.csv\")"
   ]
  }
 ],
 "metadata": {
  "kernelspec": {
   "display_name": "base",
   "language": "python",
   "name": "python3"
  },
  "language_info": {
   "codemirror_mode": {
    "name": "ipython",
    "version": 3
   },
   "file_extension": ".py",
   "mimetype": "text/x-python",
   "name": "python",
   "nbconvert_exporter": "python",
   "pygments_lexer": "ipython3",
   "version": "3.12.3"
  }
 },
 "nbformat": 4,
 "nbformat_minor": 2
}
